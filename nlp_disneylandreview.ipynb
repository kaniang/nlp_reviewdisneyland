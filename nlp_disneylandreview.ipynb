{
  "nbformat": 4,
  "nbformat_minor": 0,
  "metadata": {
    "colab": {
      "name": "nlp_disneylandreview_zaki.ipynb",
      "provenance": [],
      "collapsed_sections": []
    },
    "kernelspec": {
      "name": "python3",
      "display_name": "Python 3"
    },
    "language_info": {
      "name": "python"
    },
    "accelerator": "GPU"
  },
  "cells": [
    {
      "cell_type": "markdown",
      "metadata": {
        "id": "9cWJ2-HrKFZd"
      },
      "source": [
        "##Muhammad Zaki\n",
        "Kota Bukittinggi, Sumatera Barat\n",
        "muhammadzaki476@gmail.com"
      ]
    },
    {
      "cell_type": "markdown",
      "metadata": {
        "id": "-aGhuhq-KMk3"
      },
      "source": [
        "import data"
      ]
    },
    {
      "cell_type": "code",
      "metadata": {
        "colab": {
          "base_uri": "https://localhost:8080/"
        },
        "id": "clLsP0_9J8Ch",
        "outputId": "f17f5aba-5122-4d40-fc7b-cc531082234b"
      },
      "source": [
        "!wget --no-check-certificate \\\n",
        "  https://github.com//kaniang/nlp_reviewdisneyland/raw/main/disneyland_review.zip \\\n",
        "  -O /content/archive.zip"
      ],
      "execution_count": 1,
      "outputs": [
        {
          "output_type": "stream",
          "name": "stdout",
          "text": [
            "--2021-10-11 04:09:42--  https://github.com//kaniang/nlp_reviewdisneyland/raw/main/disneyland_review.zip\n",
            "Resolving github.com (github.com)... 52.192.72.89\n",
            "Connecting to github.com (github.com)|52.192.72.89|:443... connected.\n",
            "HTTP request sent, awaiting response... 302 Found\n",
            "Location: https://raw.githubusercontent.com/kaniang/nlp_reviewdisneyland/main/disneyland_review.zip [following]\n",
            "--2021-10-11 04:09:42--  https://raw.githubusercontent.com/kaniang/nlp_reviewdisneyland/main/disneyland_review.zip\n",
            "Resolving raw.githubusercontent.com (raw.githubusercontent.com)... 185.199.110.133, 185.199.108.133, 185.199.111.133, ...\n",
            "Connecting to raw.githubusercontent.com (raw.githubusercontent.com)|185.199.110.133|:443... connected.\n",
            "HTTP request sent, awaiting response... 200 OK\n",
            "Length: 11639652 (11M) [application/zip]\n",
            "Saving to: ‘/content/archive.zip’\n",
            "\n",
            "/content/archive.zi 100%[===================>]  11.10M  58.6MB/s    in 0.2s    \n",
            "\n",
            "2021-10-11 04:09:44 (58.6 MB/s) - ‘/content/archive.zip’ saved [11639652/11639652]\n",
            "\n"
          ]
        }
      ]
    },
    {
      "cell_type": "code",
      "metadata": {
        "id": "h4PB6X8UKC5b"
      },
      "source": [
        "import zipfile,os\n",
        "local_zip = '/content/archive.zip'\n",
        "zip_ref = zipfile.ZipFile(local_zip, 'r')\n",
        "zip_ref.extractall('/content')\n",
        "zip_ref.close()"
      ],
      "execution_count": 2,
      "outputs": []
    },
    {
      "cell_type": "markdown",
      "metadata": {
        "id": "4u6jG0FqKVQ9"
      },
      "source": [
        "data preprocessing"
      ]
    },
    {
      "cell_type": "code",
      "metadata": {
        "id": "HDYoFBb6KR0a"
      },
      "source": [
        "import pandas as pd"
      ],
      "execution_count": 3,
      "outputs": []
    },
    {
      "cell_type": "code",
      "metadata": {
        "id": "_bhuf-9MeJIv",
        "colab": {
          "base_uri": "https://localhost:8080/",
          "height": 203
        },
        "outputId": "c46868c8-7614-4be7-ba8c-8cf55c7ccc27"
      },
      "source": [
        "df = pd.read_csv('DisneylandReviews.csv',encoding = \"ISO-8859-1\", engine='python')\n",
        "df.head()"
      ],
      "execution_count": 4,
      "outputs": [
        {
          "output_type": "execute_result",
          "data": {
            "text/html": [
              "<div>\n",
              "<style scoped>\n",
              "    .dataframe tbody tr th:only-of-type {\n",
              "        vertical-align: middle;\n",
              "    }\n",
              "\n",
              "    .dataframe tbody tr th {\n",
              "        vertical-align: top;\n",
              "    }\n",
              "\n",
              "    .dataframe thead th {\n",
              "        text-align: right;\n",
              "    }\n",
              "</style>\n",
              "<table border=\"1\" class=\"dataframe\">\n",
              "  <thead>\n",
              "    <tr style=\"text-align: right;\">\n",
              "      <th></th>\n",
              "      <th>Review_ID</th>\n",
              "      <th>Rating</th>\n",
              "      <th>Year_Month</th>\n",
              "      <th>Reviewer_Location</th>\n",
              "      <th>Review_Text</th>\n",
              "      <th>Branch</th>\n",
              "    </tr>\n",
              "  </thead>\n",
              "  <tbody>\n",
              "    <tr>\n",
              "      <th>0</th>\n",
              "      <td>670772142</td>\n",
              "      <td>4</td>\n",
              "      <td>2019-4</td>\n",
              "      <td>Australia</td>\n",
              "      <td>If you've ever been to Disneyland anywhere you...</td>\n",
              "      <td>Disneyland_HongKong</td>\n",
              "    </tr>\n",
              "    <tr>\n",
              "      <th>1</th>\n",
              "      <td>670682799</td>\n",
              "      <td>4</td>\n",
              "      <td>2019-5</td>\n",
              "      <td>Philippines</td>\n",
              "      <td>Its been a while since d last time we visit HK...</td>\n",
              "      <td>Disneyland_HongKong</td>\n",
              "    </tr>\n",
              "    <tr>\n",
              "      <th>2</th>\n",
              "      <td>670623270</td>\n",
              "      <td>4</td>\n",
              "      <td>2019-4</td>\n",
              "      <td>United Arab Emirates</td>\n",
              "      <td>Thanks God it wasn   t too hot or too humid wh...</td>\n",
              "      <td>Disneyland_HongKong</td>\n",
              "    </tr>\n",
              "    <tr>\n",
              "      <th>3</th>\n",
              "      <td>670607911</td>\n",
              "      <td>4</td>\n",
              "      <td>2019-4</td>\n",
              "      <td>Australia</td>\n",
              "      <td>HK Disneyland is a great compact park. Unfortu...</td>\n",
              "      <td>Disneyland_HongKong</td>\n",
              "    </tr>\n",
              "    <tr>\n",
              "      <th>4</th>\n",
              "      <td>670607296</td>\n",
              "      <td>4</td>\n",
              "      <td>2019-4</td>\n",
              "      <td>United Kingdom</td>\n",
              "      <td>the location is not in the city, took around 1...</td>\n",
              "      <td>Disneyland_HongKong</td>\n",
              "    </tr>\n",
              "  </tbody>\n",
              "</table>\n",
              "</div>"
            ],
            "text/plain": [
              "   Review_ID  ...               Branch\n",
              "0  670772142  ...  Disneyland_HongKong\n",
              "1  670682799  ...  Disneyland_HongKong\n",
              "2  670623270  ...  Disneyland_HongKong\n",
              "3  670607911  ...  Disneyland_HongKong\n",
              "4  670607296  ...  Disneyland_HongKong\n",
              "\n",
              "[5 rows x 6 columns]"
            ]
          },
          "metadata": {},
          "execution_count": 4
        }
      ]
    },
    {
      "cell_type": "markdown",
      "metadata": {
        "id": "Uuo4Yff8KfiT"
      },
      "source": [
        "data cleansing"
      ]
    },
    {
      "cell_type": "code",
      "metadata": {
        "colab": {
          "base_uri": "https://localhost:8080/",
          "height": 203
        },
        "id": "k6Q0qr6vKR2v",
        "outputId": "de1b3573-54ac-4869-e0f5-2b305cb3ad3e"
      },
      "source": [
        "df = df.drop(columns=['Review_ID','Year_Month','Reviewer_Location','Branch'])\n",
        "df.dropna(inplace=True)\n",
        "df.head()"
      ],
      "execution_count": 5,
      "outputs": [
        {
          "output_type": "execute_result",
          "data": {
            "text/html": [
              "<div>\n",
              "<style scoped>\n",
              "    .dataframe tbody tr th:only-of-type {\n",
              "        vertical-align: middle;\n",
              "    }\n",
              "\n",
              "    .dataframe tbody tr th {\n",
              "        vertical-align: top;\n",
              "    }\n",
              "\n",
              "    .dataframe thead th {\n",
              "        text-align: right;\n",
              "    }\n",
              "</style>\n",
              "<table border=\"1\" class=\"dataframe\">\n",
              "  <thead>\n",
              "    <tr style=\"text-align: right;\">\n",
              "      <th></th>\n",
              "      <th>Rating</th>\n",
              "      <th>Review_Text</th>\n",
              "    </tr>\n",
              "  </thead>\n",
              "  <tbody>\n",
              "    <tr>\n",
              "      <th>0</th>\n",
              "      <td>4</td>\n",
              "      <td>If you've ever been to Disneyland anywhere you...</td>\n",
              "    </tr>\n",
              "    <tr>\n",
              "      <th>1</th>\n",
              "      <td>4</td>\n",
              "      <td>Its been a while since d last time we visit HK...</td>\n",
              "    </tr>\n",
              "    <tr>\n",
              "      <th>2</th>\n",
              "      <td>4</td>\n",
              "      <td>Thanks God it wasn   t too hot or too humid wh...</td>\n",
              "    </tr>\n",
              "    <tr>\n",
              "      <th>3</th>\n",
              "      <td>4</td>\n",
              "      <td>HK Disneyland is a great compact park. Unfortu...</td>\n",
              "    </tr>\n",
              "    <tr>\n",
              "      <th>4</th>\n",
              "      <td>4</td>\n",
              "      <td>the location is not in the city, took around 1...</td>\n",
              "    </tr>\n",
              "  </tbody>\n",
              "</table>\n",
              "</div>"
            ],
            "text/plain": [
              "   Rating                                        Review_Text\n",
              "0       4  If you've ever been to Disneyland anywhere you...\n",
              "1       4  Its been a while since d last time we visit HK...\n",
              "2       4  Thanks God it wasn   t too hot or too humid wh...\n",
              "3       4  HK Disneyland is a great compact park. Unfortu...\n",
              "4       4  the location is not in the city, took around 1..."
            ]
          },
          "metadata": {},
          "execution_count": 5
        }
      ]
    },
    {
      "cell_type": "code",
      "metadata": {
        "colab": {
          "base_uri": "https://localhost:8080/"
        },
        "id": "rbalOMjaKR5R",
        "outputId": "ac77d316-5a8c-4c19-f1fd-03b31ab5592e"
      },
      "source": [
        "print('DataFrame:\\n', df)"
      ],
      "execution_count": 6,
      "outputs": [
        {
          "output_type": "stream",
          "name": "stdout",
          "text": [
            "DataFrame:\n",
            "        Rating                                        Review_Text\n",
            "0           4  If you've ever been to Disneyland anywhere you...\n",
            "1           4  Its been a while since d last time we visit HK...\n",
            "2           4  Thanks God it wasn   t too hot or too humid wh...\n",
            "3           4  HK Disneyland is a great compact park. Unfortu...\n",
            "4           4  the location is not in the city, took around 1...\n",
            "...       ...                                                ...\n",
            "42651       5  i went to disneyland paris in july 03 and thou...\n",
            "42652       5  2 adults and 1 child of 11 visited Disneyland ...\n",
            "42653       5  My eleven year old daughter and myself went to...\n",
            "42654       4  This hotel, part of the Disneyland Paris compl...\n",
            "42655       4  I went to the Disneyparis resort, in 1996, wit...\n",
            "\n",
            "[42656 rows x 2 columns]\n"
          ]
        }
      ]
    },
    {
      "cell_type": "markdown",
      "metadata": {
        "id": "CfrLgiKPKr4t"
      },
      "source": [
        "learning data"
      ]
    },
    {
      "cell_type": "code",
      "metadata": {
        "colab": {
          "base_uri": "https://localhost:8080/",
          "height": 203
        },
        "id": "nDSilRJDKR72",
        "outputId": "4e960f4f-1a07-4443-fa85-9aa5400c2b00"
      },
      "source": [
        "#one hot encoding\n",
        "category = pd.get_dummies(df.Rating)\n",
        "df_baru = pd.concat([df, category], axis=1)\n",
        "df_baru = df_baru.drop(columns='Rating')\n",
        "df_baru.head()"
      ],
      "execution_count": 7,
      "outputs": [
        {
          "output_type": "execute_result",
          "data": {
            "text/html": [
              "<div>\n",
              "<style scoped>\n",
              "    .dataframe tbody tr th:only-of-type {\n",
              "        vertical-align: middle;\n",
              "    }\n",
              "\n",
              "    .dataframe tbody tr th {\n",
              "        vertical-align: top;\n",
              "    }\n",
              "\n",
              "    .dataframe thead th {\n",
              "        text-align: right;\n",
              "    }\n",
              "</style>\n",
              "<table border=\"1\" class=\"dataframe\">\n",
              "  <thead>\n",
              "    <tr style=\"text-align: right;\">\n",
              "      <th></th>\n",
              "      <th>Review_Text</th>\n",
              "      <th>1</th>\n",
              "      <th>2</th>\n",
              "      <th>3</th>\n",
              "      <th>4</th>\n",
              "      <th>5</th>\n",
              "    </tr>\n",
              "  </thead>\n",
              "  <tbody>\n",
              "    <tr>\n",
              "      <th>0</th>\n",
              "      <td>If you've ever been to Disneyland anywhere you...</td>\n",
              "      <td>0</td>\n",
              "      <td>0</td>\n",
              "      <td>0</td>\n",
              "      <td>1</td>\n",
              "      <td>0</td>\n",
              "    </tr>\n",
              "    <tr>\n",
              "      <th>1</th>\n",
              "      <td>Its been a while since d last time we visit HK...</td>\n",
              "      <td>0</td>\n",
              "      <td>0</td>\n",
              "      <td>0</td>\n",
              "      <td>1</td>\n",
              "      <td>0</td>\n",
              "    </tr>\n",
              "    <tr>\n",
              "      <th>2</th>\n",
              "      <td>Thanks God it wasn   t too hot or too humid wh...</td>\n",
              "      <td>0</td>\n",
              "      <td>0</td>\n",
              "      <td>0</td>\n",
              "      <td>1</td>\n",
              "      <td>0</td>\n",
              "    </tr>\n",
              "    <tr>\n",
              "      <th>3</th>\n",
              "      <td>HK Disneyland is a great compact park. Unfortu...</td>\n",
              "      <td>0</td>\n",
              "      <td>0</td>\n",
              "      <td>0</td>\n",
              "      <td>1</td>\n",
              "      <td>0</td>\n",
              "    </tr>\n",
              "    <tr>\n",
              "      <th>4</th>\n",
              "      <td>the location is not in the city, took around 1...</td>\n",
              "      <td>0</td>\n",
              "      <td>0</td>\n",
              "      <td>0</td>\n",
              "      <td>1</td>\n",
              "      <td>0</td>\n",
              "    </tr>\n",
              "  </tbody>\n",
              "</table>\n",
              "</div>"
            ],
            "text/plain": [
              "                                         Review_Text  1  2  3  4  5\n",
              "0  If you've ever been to Disneyland anywhere you...  0  0  0  1  0\n",
              "1  Its been a while since d last time we visit HK...  0  0  0  1  0\n",
              "2  Thanks God it wasn   t too hot or too humid wh...  0  0  0  1  0\n",
              "3  HK Disneyland is a great compact park. Unfortu...  0  0  0  1  0\n",
              "4  the location is not in the city, took around 1...  0  0  0  1  0"
            ]
          },
          "metadata": {},
          "execution_count": 7
        }
      ]
    },
    {
      "cell_type": "code",
      "metadata": {
        "id": "9ga80hB7eJUD"
      },
      "source": [
        "review = df_baru['Review_Text'].values\n",
        "label = df_baru[[1,2,3,4,5]].values"
      ],
      "execution_count": 8,
      "outputs": []
    },
    {
      "cell_type": "code",
      "metadata": {
        "id": "pnw51tAYKR-C"
      },
      "source": [
        "from sklearn.model_selection import train_test_split\n",
        "sinopsis_latih, sinopsis_test, label_latih, label_test = train_test_split(review, label, test_size=0.2)"
      ],
      "execution_count": 9,
      "outputs": []
    },
    {
      "cell_type": "code",
      "metadata": {
        "id": "crqFrWdIKSAM"
      },
      "source": [
        "#tokenizer\n",
        "from tensorflow.keras.preprocessing.text import Tokenizer\n",
        "from tensorflow.keras.preprocessing.sequence import pad_sequences\n",
        " \n",
        "tokenizer = Tokenizer(num_words=10000, oov_token='x',filters='!\"#$%&()*+,-./:;<=>?@[\\\\]^_`{|}~\\t\\n(1234567890)',lower=True, split=' ', char_level=False)\n",
        "tokenizer.fit_on_texts(sinopsis_latih)\n",
        "tokenizer.fit_on_texts(sinopsis_test)\n",
        " \n",
        "sekuens_latih = tokenizer.texts_to_sequences(sinopsis_latih)\n",
        "sekuens_test = tokenizer.texts_to_sequences(sinopsis_test)\n",
        " \n",
        "padded_latih = pad_sequences(sekuens_latih) \n",
        "padded_test = pad_sequences(sekuens_test)"
      ],
      "execution_count": 10,
      "outputs": []
    },
    {
      "cell_type": "code",
      "metadata": {
        "id": "5xX-q9FDKSCR"
      },
      "source": [
        "import tensorflow as tf\n",
        "from tensorflow import keras\n",
        "from tensorflow.keras.preprocessing.text import Tokenizer\n",
        "from keras import regularizers\n",
        "from tensorflow.keras import layers\n",
        "\n",
        "model = tf.keras.Sequential([\n",
        "    tf.keras.layers.Embedding(input_dim=10000, output_dim=32),\n",
        "    tf.keras.layers.LSTM(64),\n",
        "    tf.keras.layers.Dense(128, activation='relu', kernel_regularizer=regularizers.l2(0.01)),\n",
        "    tf.keras.layers.Dropout(0.5),\n",
        "    tf.keras.layers.Dense(64, activation='relu', kernel_regularizer=regularizers.l2(0.01)),\n",
        "    tf.keras.layers.Dropout(0.2),\n",
        "    tf.keras.layers.Dense(5, activation='softmax')\n",
        "])\n",
        "\n",
        "opt = keras.optimizers.Adam(learning_rate=0.01)\n",
        "model.compile(loss='categorical_crossentropy',\n",
        "              optimizer=opt,\n",
        "              metrics=['accuracy'])"
      ],
      "execution_count": 11,
      "outputs": []
    },
    {
      "cell_type": "code",
      "metadata": {
        "id": "sHdr-WFTKSEO"
      },
      "source": [
        "class callback(tf.keras.callbacks.Callback):\n",
        "  def on_epoch_end(self,epoch, logs={}):\n",
        "    if(logs.get('accuracy')>0.9):\n",
        "      print('target akurasi terpenuhi')\n",
        "      self.model.stop_training = True\n",
        "cb = callback()"
      ],
      "execution_count": 12,
      "outputs": []
    },
    {
      "cell_type": "code",
      "metadata": {
        "colab": {
          "base_uri": "https://localhost:8080/"
        },
        "id": "I7JRhqF6KSGQ",
        "outputId": "3518ea3b-1d01-4a52-c403-2e4453e6532c"
      },
      "source": [
        "num_epochs = 40\n",
        "history = model.fit(padded_latih, label_latih, batch_size=1024, epochs=num_epochs,validation_data=(padded_latih, label_latih), verbose=2, callbacks= cb)"
      ],
      "execution_count": 13,
      "outputs": [
        {
          "output_type": "stream",
          "name": "stdout",
          "text": [
            "Epoch 1/40\n",
            "34/34 - 53s - loss: 1.5604 - accuracy: 0.5307 - val_loss: 1.1429 - val_accuracy: 0.5440\n",
            "Epoch 2/40\n",
            "34/34 - 46s - loss: 1.0879 - accuracy: 0.5444 - val_loss: 1.0358 - val_accuracy: 0.5440\n",
            "Epoch 3/40\n",
            "34/34 - 46s - loss: 0.9906 - accuracy: 0.5749 - val_loss: 0.9255 - val_accuracy: 0.5979\n",
            "Epoch 4/40\n",
            "34/34 - 46s - loss: 0.9143 - accuracy: 0.6087 - val_loss: 0.8834 - val_accuracy: 0.6258\n",
            "Epoch 5/40\n",
            "34/34 - 46s - loss: 0.8730 - accuracy: 0.6347 - val_loss: 0.8186 - val_accuracy: 0.6639\n",
            "Epoch 6/40\n",
            "34/34 - 46s - loss: 0.8257 - accuracy: 0.6556 - val_loss: 0.7691 - val_accuracy: 0.6711\n",
            "Epoch 7/40\n",
            "34/34 - 46s - loss: 0.7825 - accuracy: 0.6741 - val_loss: 0.7285 - val_accuracy: 0.7033\n",
            "Epoch 8/40\n",
            "34/34 - 46s - loss: 0.7707 - accuracy: 0.6834 - val_loss: 0.7586 - val_accuracy: 0.6777\n",
            "Epoch 9/40\n",
            "34/34 - 46s - loss: 0.7380 - accuracy: 0.6987 - val_loss: 0.6612 - val_accuracy: 0.7394\n",
            "Epoch 10/40\n",
            "34/34 - 46s - loss: 0.7101 - accuracy: 0.7194 - val_loss: 0.6358 - val_accuracy: 0.7576\n",
            "Epoch 11/40\n",
            "34/34 - 46s - loss: 0.6882 - accuracy: 0.7319 - val_loss: 0.6114 - val_accuracy: 0.7760\n",
            "Epoch 12/40\n",
            "34/34 - 46s - loss: 0.6432 - accuracy: 0.7577 - val_loss: 0.5997 - val_accuracy: 0.7708\n",
            "Epoch 13/40\n",
            "34/34 - 56s - loss: 0.6264 - accuracy: 0.7641 - val_loss: 0.5589 - val_accuracy: 0.8032\n",
            "Epoch 14/40\n",
            "34/34 - 46s - loss: 0.6071 - accuracy: 0.7731 - val_loss: 0.5620 - val_accuracy: 0.7923\n",
            "Epoch 15/40\n",
            "34/34 - 46s - loss: 0.5920 - accuracy: 0.7797 - val_loss: 0.5321 - val_accuracy: 0.8175\n",
            "Epoch 16/40\n",
            "34/34 - 46s - loss: 0.5700 - accuracy: 0.7919 - val_loss: 0.4986 - val_accuracy: 0.8355\n",
            "Epoch 17/40\n",
            "34/34 - 46s - loss: 0.5457 - accuracy: 0.8038 - val_loss: 0.4912 - val_accuracy: 0.8333\n",
            "Epoch 18/40\n",
            "34/34 - 46s - loss: 0.6060 - accuracy: 0.7784 - val_loss: 0.5130 - val_accuracy: 0.8278\n",
            "Epoch 19/40\n",
            "34/34 - 46s - loss: 0.5235 - accuracy: 0.8176 - val_loss: 0.4552 - val_accuracy: 0.8476\n",
            "Epoch 20/40\n",
            "34/34 - 46s - loss: 0.4938 - accuracy: 0.8331 - val_loss: 0.4228 - val_accuracy: 0.8646\n",
            "Epoch 21/40\n",
            "34/34 - 46s - loss: 0.4681 - accuracy: 0.8450 - val_loss: 0.4532 - val_accuracy: 0.8440\n",
            "Epoch 22/40\n",
            "34/34 - 46s - loss: 0.4790 - accuracy: 0.8398 - val_loss: 0.4197 - val_accuracy: 0.8652\n",
            "Epoch 23/40\n",
            "34/34 - 46s - loss: 0.4701 - accuracy: 0.8427 - val_loss: 0.4011 - val_accuracy: 0.8717\n",
            "Epoch 24/40\n",
            "34/34 - 46s - loss: 0.4657 - accuracy: 0.8470 - val_loss: 0.4171 - val_accuracy: 0.8618\n",
            "Epoch 25/40\n",
            "34/34 - 46s - loss: 0.4420 - accuracy: 0.8559 - val_loss: 0.3847 - val_accuracy: 0.8771\n",
            "Epoch 26/40\n",
            "34/34 - 46s - loss: 0.4173 - accuracy: 0.8678 - val_loss: 0.3577 - val_accuracy: 0.8882\n",
            "Epoch 27/40\n",
            "34/34 - 46s - loss: 0.6750 - accuracy: 0.7652 - val_loss: 0.6749 - val_accuracy: 0.7806\n",
            "Epoch 28/40\n",
            "34/34 - 46s - loss: 0.5975 - accuracy: 0.7957 - val_loss: 0.4711 - val_accuracy: 0.8517\n",
            "Epoch 29/40\n",
            "34/34 - 46s - loss: 0.4786 - accuracy: 0.8452 - val_loss: 0.4097 - val_accuracy: 0.8730\n",
            "Epoch 30/40\n",
            "34/34 - 46s - loss: 0.4508 - accuracy: 0.8565 - val_loss: 0.4110 - val_accuracy: 0.8686\n",
            "Epoch 31/40\n",
            "34/34 - 46s - loss: 0.4192 - accuracy: 0.8710 - val_loss: 0.4031 - val_accuracy: 0.8743\n",
            "Epoch 32/40\n",
            "34/34 - 46s - loss: 0.4655 - accuracy: 0.8462 - val_loss: 0.4401 - val_accuracy: 0.8607\n",
            "Epoch 33/40\n",
            "34/34 - 46s - loss: 0.4680 - accuracy: 0.8466 - val_loss: 0.3968 - val_accuracy: 0.8756\n",
            "Epoch 34/40\n",
            "34/34 - 46s - loss: 0.4094 - accuracy: 0.8752 - val_loss: 0.3451 - val_accuracy: 0.8998\n",
            "Epoch 35/40\n",
            "34/34 - 46s - loss: 0.3695 - accuracy: 0.8895 - val_loss: 0.3237 - val_accuracy: 0.9054\n",
            "Epoch 36/40\n",
            "34/34 - 46s - loss: 0.3570 - accuracy: 0.8927 - val_loss: 0.3057 - val_accuracy: 0.9115\n",
            "Epoch 37/40\n",
            "34/34 - 46s - loss: 0.3333 - accuracy: 0.9026 - val_loss: 0.2968 - val_accuracy: 0.9158\n",
            "target akurasi terpenuhi\n"
          ]
        }
      ]
    },
    {
      "cell_type": "code",
      "metadata": {
        "id": "LB_apxJrqbta"
      },
      "source": [
        "from matplotlib import pyplot as plt"
      ],
      "execution_count": 14,
      "outputs": []
    },
    {
      "cell_type": "code",
      "metadata": {
        "colab": {
          "base_uri": "https://localhost:8080/",
          "height": 295
        },
        "id": "_LpgQMVsunQv",
        "outputId": "9b22b1d6-3e35-479f-d034-2e55053e98cc"
      },
      "source": [
        "plt.plot(history.history['loss'], label='Training Loss')\n",
        "plt.plot(history.history['val_loss'], label='Validation Loss')\n",
        "plt.title('Training and Validation Loss')\n",
        "plt.ylabel('value')\n",
        "plt.xlabel('epoch')\n",
        "plt.legend(loc=\"upper left\")\n",
        "plt.show()"
      ],
      "execution_count": 17,
      "outputs": [
        {
          "output_type": "display_data",
          "data": {
            "image/png": "[encoded data removed]",
            "text/plain": [
              "<Figure size 432x288 with 1 Axes>"
            ]
          },
          "metadata": {
            "needs_background": "light"
          }
        }
      ]
    },
    {
      "cell_type": "code",
      "metadata": {
        "colab": {
          "base_uri": "https://localhost:8080/",
          "height": 295
        },
        "id": "R4KE2k__vh22",
        "outputId": "0d667b85-8c67-4cf0-b464-80f7cdc1458c"
      },
      "source": [
        "plt.plot(history.history['accuracy'], label='Training Accuracy')\n",
        "plt.plot(history.history['val_accuracy'], label='Validation Accuracy')\n",
        "plt.title('Training and Validation Accuracy')\n",
        "plt.ylabel('value')\n",
        "plt.xlabel('epoch')\n",
        "plt.legend(loc=\"upper left\")\n",
        "plt.show()"
      ],
      "execution_count": 18,
      "outputs": [
        {
          "output_type": "display_data",
          "data": {
            "image/png": "[encoded data removed]",
            "text/plain": [
              "<Figure size 432x288 with 1 Axes>"
            ]
          },
          "metadata": {
            "needs_background": "light"
          }
        }
      ]
    }
  ]
}